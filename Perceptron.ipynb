{
 "cells": [
  {
   "cell_type": "markdown",
   "metadata": {
    "colab_type": "text",
    "id": "wQPmap4gQgKk"
   },
   "source": [
    "# Objetivos deste trabalho:\n",
    "- Se familiarizar com o ambiente Notebook e com Python\n",
    "- Implementar um perceptron simples, treiná-lo no conjunto de TREINO do CIFAR-10 e avaliá-lo no conjunto de TESTE (alvo: distinguir fotos de animais de meios de transporte)\n",
    "- Utilizar a função sigmóide e verificar seu efeito no treinamento e na avaliação\n",
    "- Modificar a metodologia para classificar cada classe individualmente (i.e. treinar 10 perceptrons, um para cada classe). Considerar: dado um exemplo, que passará por cada perceptron, como decidir qual é a classe dele?"
   ]
  },
  {
   "cell_type": "code",
   "execution_count": 1,
   "metadata": {
    "colab": {
     "base_uri": "https://localhost:8080/",
     "height": 34
    },
    "colab_type": "code",
    "executionInfo": {
     "elapsed": 1270,
     "status": "ok",
     "timestamp": 1553103022510,
     "user": {
      "displayName": "Alexandre Thurow",
      "photoUrl": "",
      "userId": "08276326937754960127"
     },
     "user_tz": 180
    },
    "id": "NZ8rGAsqQgKl",
    "outputId": "2da7e303-4f99-45bd-c62b-acaaf737d752"
   },
   "outputs": [
    {
     "data": {
      "text/plain": [
       "{'divide': 'warn', 'over': 'warn', 'under': 'ignore', 'invalid': 'warn'}"
      ]
     },
     "execution_count": 1,
     "metadata": {},
     "output_type": "execute_result"
    }
   ],
   "source": [
    "%matplotlib inline\n",
    "\n",
    "import torch\n",
    "import torchvision\n",
    "import numpy as np\n",
    "import matplotlib.pyplot as plt\n",
    "import random\n",
    "\n",
    "np.seterr(all='raise')"
   ]
  },
  {
   "cell_type": "code",
   "execution_count": 2,
   "metadata": {
    "colab": {
     "base_uri": "https://localhost:8080/",
     "height": 52
    },
    "colab_type": "code",
    "executionInfo": {
     "elapsed": 3798,
     "status": "ok",
     "timestamp": 1553103025083,
     "user": {
      "displayName": "Alexandre Thurow",
      "photoUrl": "",
      "userId": "08276326937754960127"
     },
     "user_tz": 180
    },
    "id": "znuUs0-DQgKr",
    "outputId": "ad49e2b9-d05e-4825-e4f7-99292f46d6ba"
   },
   "outputs": [
    {
     "name": "stdout",
     "output_type": "stream",
     "text": [
      "Files already downloaded and verified\n",
      "Files already downloaded and verified\n"
     ]
    }
   ],
   "source": [
    "# Carregar os datasets\n",
    "\n",
    "dataset_train = torchvision.datasets.CIFAR10(root='./data', train=True,\n",
    "                                        download=True)\n",
    "\n",
    "dataset_test = torchvision.datasets.CIFAR10(root='./data', train=False,\n",
    "                                        download=True)"
   ]
  },
  {
   "cell_type": "code",
   "execution_count": 3,
   "metadata": {
    "colab": {},
    "colab_type": "code",
    "id": "zy1bhjM7QgKu"
   },
   "outputs": [],
   "source": [
    "classes = ('plane', 'car', 'bird', 'cat',\n",
    "           'deer', 'dog', 'frog', 'horse', 'ship', 'truck')"
   ]
  },
  {
   "cell_type": "code",
   "execution_count": 4,
   "metadata": {
    "colab": {
     "base_uri": "https://localhost:8080/",
     "height": 34
    },
    "colab_type": "code",
    "executionInfo": {
     "elapsed": 3769,
     "status": "ok",
     "timestamp": 1553103025093,
     "user": {
      "displayName": "Alexandre Thurow",
      "photoUrl": "",
      "userId": "08276326937754960127"
     },
     "user_tz": 180
    },
    "id": "HRe2-4BwQgKw",
    "outputId": "081e77da-0757-416d-85da-8e03dfff0d93"
   },
   "outputs": [
    {
     "name": "stdout",
     "output_type": "stream",
     "text": [
      "50000 10000\n"
     ]
    }
   ],
   "source": [
    "print(len(dataset_train), len(dataset_test))"
   ]
  },
  {
   "cell_type": "code",
   "execution_count": 5,
   "metadata": {
    "colab": {},
    "colab_type": "code",
    "id": "ihVth3WlQgK0"
   },
   "outputs": [],
   "source": [
    "# Converter para tons de cinza\n",
    "\n",
    "# Treino\n",
    "grayscale_dataset_train = []\n",
    "for img,label in dataset_train:\n",
    "    category = classes[label]\n",
    "    gray_npimg = np.array(img.convert('L'))\n",
    "    grayscale_dataset_train.append((gray_npimg,category))\n",
    "    \n",
    "# Teste\n",
    "grayscale_dataset_test = []\n",
    "for img,label in dataset_test:\n",
    "    category = classes[label]\n",
    "    gray_npimg = np.array(img.convert('L'))\n",
    "    grayscale_dataset_test.append((gray_npimg,category))    "
   ]
  },
  {
   "cell_type": "code",
   "execution_count": 6,
   "metadata": {
    "colab": {
     "base_uri": "https://localhost:8080/",
     "height": 568
    },
    "colab_type": "code",
    "executionInfo": {
     "elapsed": 9556,
     "status": "ok",
     "timestamp": 1553103030917,
     "user": {
      "displayName": "Alexandre Thurow",
      "photoUrl": "",
      "userId": "08276326937754960127"
     },
     "user_tz": 180
    },
    "id": "S9Nd_MSDQgK2",
    "outputId": "0746cde6-68b6-48d4-87e5-a745bd0d8f48"
   },
   "outputs": [
    {
     "data": {
      "image/png": "[encoded data removed]",
      "text/plain": [
       "<Figure size 720x720 with 12 Axes>"
      ]
     },
     "metadata": {
      "needs_background": "light"
     },
     "output_type": "display_data"
    }
   ],
   "source": [
    "# Mostrar imagens\n",
    "\n",
    "fig = plt.figure(figsize=(10, 10))\n",
    "columns = 4\n",
    "rows = 3\n",
    "for i in range(1, columns*rows +1):\n",
    "    image_index = random.randint(0, len(dataset_train))\n",
    "    label = grayscale_dataset_train[image_index][1]\n",
    "    npimg = grayscale_dataset_train[image_index][0]\n",
    "\n",
    "    fig.add_subplot(rows, columns, i)\n",
    "    \n",
    "    plt.imshow(npimg, cmap='gray')\n",
    "    plt.title(label)\n",
    "    \n",
    "plt.show()"
   ]
  },
  {
   "cell_type": "code",
   "execution_count": 7,
   "metadata": {
    "colab": {},
    "colab_type": "code",
    "id": "AxReP3O-QgK7"
   },
   "outputs": [],
   "source": [
    "# Converter para vetores 1D\n",
    "\n",
    "# Para pensar: por que a divisão por 255 no código abaixo?\n",
    "\n",
    "linear_dataset_train = []\n",
    "target_labels = ('plane', 'car', 'ship', 'truck')\n",
    "for img,category in grayscale_dataset_train:\n",
    "    linear_img = img.reshape(img.shape[0]*img.shape[1],1) / 255\n",
    "    if category in target_labels:\n",
    "        label = 1\n",
    "    else:\n",
    "        label = 0\n",
    "    linear_dataset_train.append((linear_img,label))\n",
    "    \n",
    "linear_dataset_test = []\n",
    "target_labels = ('plane', 'car', 'ship', 'truck')\n",
    "for img,category in grayscale_dataset_test:\n",
    "    linear_img = img.reshape(img.shape[0]*img.shape[1],1) / 255\n",
    "    if category in target_labels:\n",
    "        label = 1\n",
    "    else:\n",
    "        label = 0\n",
    "    linear_dataset_test.append((linear_img,label))    "
   ]
  },
  {
   "cell_type": "code",
   "execution_count": 8,
   "metadata": {
    "colab": {
     "base_uri": "https://localhost:8080/",
     "height": 34
    },
    "colab_type": "code",
    "executionInfo": {
     "elapsed": 9524,
     "status": "ok",
     "timestamp": 1553103030940,
     "user": {
      "displayName": "Alexandre Thurow",
      "photoUrl": "",
      "userId": "08276326937754960127"
     },
     "user_tz": 180
    },
    "id": "MKTMc6bIQgK9",
    "outputId": "859354e4-14ab-4b81-cf33-f099c72e77fd"
   },
   "outputs": [
    {
     "name": "stdout",
     "output_type": "stream",
     "text": [
      "1024\n"
     ]
    }
   ],
   "source": [
    "size = len(linear_dataset_train[0][0])\n",
    "print(size)"
   ]
  },
  {
   "cell_type": "markdown",
   "metadata": {
    "colab_type": "text",
    "id": "FWsQxUGvQgLA"
   },
   "source": [
    "# Definindo o perceptron"
   ]
  },
  {
   "cell_type": "code",
   "execution_count": 9,
   "metadata": {
    "colab": {},
    "colab_type": "code",
    "id": "lXWPa5J3QgLB"
   },
   "outputs": [],
   "source": [
    "class Perceptron(object):\n",
    "    \n",
    "    def __init__(self, neta=0.001):\n",
    "        self.neta = neta\n",
    "        self.weights = (np.random.rand(1,size) - 0.5)[0]\n",
    "        bias = (np.random.rand(1) - 0.5) \n",
    "        self.weights = np.append(self.weights, bias) \n",
    "        self.accuracies = []\n",
    "        self.losses = []\n",
    "    \n",
    "    def sigmoid(self, x):\n",
    "        return 1/(1+np.exp(-x))\n",
    "    \n",
    "    def predict(self, inputs):\n",
    "        o = np.dot(inputs, self.weights)\n",
    "        y = self.sigmoid(o)\n",
    "        return y\n",
    "    \n",
    "\n",
    "    def evaluate(self, dataset):\n",
    "        hits = 0\n",
    "        for image,label in dataset:\n",
    "            image = np.append(image, 1)\n",
    "            # Defina a métrica de avaliação do perceptron aqui (e.g. acurácia)\n",
    "            y = self.predict(image)\n",
    "\n",
    "            if(y >= 0.5 and label == 1):\n",
    "                hits += 1\n",
    "\n",
    "            elif(y < 0.5 and label == 0):\n",
    "                hits += 1\n",
    "\n",
    "        accuracy = hits / len(dataset)\n",
    "        return accuracy\n",
    "    \n",
    "    \n",
    "    def train(self, dataset, epochs=100, verbose=\"not_verbose\"):\n",
    "        np.random.shuffle(dataset)\n",
    "\n",
    "        \n",
    "        \n",
    "        for epoch in range(epochs):\n",
    "            hits = 0\n",
    "            loss = 0\n",
    "            for image, label in dataset:\n",
    "                image = np.append(image, 1)\n",
    "\n",
    "                y = self.predict(image)\n",
    "\n",
    "                if(y >= 0.5 and label == 1):\n",
    "                    hits += 1\n",
    "\n",
    "                elif(y < 0.5 and label == 0):\n",
    "                    hits += 1\n",
    "\n",
    "                delta_weights = self.neta * (label - y) * image * y * (1 - y)\n",
    "                self.weights += delta_weights\n",
    "                loss += (label - y)**2\n",
    "\n",
    "            accuracy = hits / len(linear_dataset_train)\n",
    "            self.accuracies = np.append(self.accuracies, accuracy)\n",
    "            self.losses = np.append(self.losses, loss)\n",
    "\n",
    "            if(verbose == \"verbose\"):\n",
    "                print(\"%5.0f %12f %15f\" %(epoch+1, accuracy, loss))\n",
    "                #print(epoch,\"\\t\", accuracy, \"\\t\", loss)\n",
    "            \n",
    "    \n",
    "    def plotResults(self):\n",
    "        plt.plot(self.accuracies)\n",
    "        plt.xlabel(\"Epoch\")\n",
    "        plt.ylabel(\"Accuracy\")\n",
    "        plt.title(\"Training Accuracy\")\n",
    "        plt.show()\n",
    "\n",
    "        plt.plot(self.losses)\n",
    "        plt.xlabel(\"Epoch\")\n",
    "        plt.ylabel(\"Loss\")\n",
    "        plt.title(\"Training Loss\")\n",
    "        plt.show()"
   ]
  },
  {
   "cell_type": "markdown",
   "metadata": {
    "colab_type": "text",
    "id": "iLarmxGAQgLE"
   },
   "source": [
    "# Treinando o perceptron"
   ]
  },
  {
   "cell_type": "code",
   "execution_count": 10,
   "metadata": {
    "colab": {},
    "colab_type": "code",
    "id": "n9vKhvrXQgLF"
   },
   "outputs": [
    {
     "name": "stdout",
     "output_type": "stream",
     "text": [
      "    1     0.655240    12338.615652\n",
      "    2     0.694400    10886.951649\n",
      "    3     0.700440    10600.785233\n",
      "    4     0.703580    10422.211092\n",
      "    5     0.705820    10286.916227\n",
      "    6     0.708340    10177.879396\n",
      "    7     0.710360    10087.609656\n",
      "    8     0.711640    10011.632997\n",
      "    9     0.713940     9946.907131\n",
      "   10     0.715120     9891.232173\n",
      "   11     0.716400     9842.956736\n",
      "   12     0.717220     9800.807267\n",
      "   13     0.717620     9763.780523\n",
      "   14     0.718160     9731.072479\n",
      "   15     0.719100     9702.029708\n",
      "   16     0.719720     9676.115175\n",
      "   17     0.720980     9652.883510\n",
      "   18     0.721660     9631.962692\n",
      "   19     0.722020     9613.040153\n",
      "   20     0.722200     9595.852016\n",
      "   21     0.722500     9580.174609\n",
      "   22     0.722840     9565.817673\n",
      "   23     0.723460     9552.618859\n",
      "   24     0.723620     9540.439229\n",
      "   25     0.724260     9529.159551\n",
      "   26     0.724480     9518.677232\n",
      "   27     0.725200     9508.903759\n",
      "   28     0.725480     9499.762569\n",
      "   29     0.725700     9491.187263\n",
      "   30     0.725620     9483.120107\n",
      "   31     0.725960     9475.510768\n",
      "   32     0.726420     9468.315250\n",
      "   33     0.726580     9461.494994\n",
      "   34     0.726700     9455.016119\n",
      "   35     0.726840     9448.848773\n",
      "   36     0.727160     9442.966582\n",
      "   37     0.727320     9437.346187\n",
      "   38     0.727340     9431.966839\n",
      "   39     0.727720     9426.810063\n",
      "   40     0.727980     9421.859360\n",
      "   41     0.727960     9417.099959\n",
      "   42     0.728120     9412.518600\n",
      "   43     0.728380     9408.103348\n",
      "   44     0.728640     9403.843432\n",
      "   45     0.728800     9399.729106\n",
      "   46     0.728920     9395.751530\n",
      "   47     0.729000     9391.902664\n",
      "   48     0.729000     9388.175175\n",
      "   49     0.728980     9384.562363\n",
      "   50     0.729200     9381.058087\n",
      "   51     0.729540     9377.656706\n",
      "   52     0.729620     9374.353029\n",
      "   53     0.729600     9371.142264\n",
      "   54     0.730040     9368.019978\n",
      "   55     0.730100     9364.982063\n",
      "   56     0.730140     9362.024705\n",
      "   57     0.730300     9359.144352\n",
      "   58     0.730420     9356.337691\n",
      "   59     0.730760     9353.601629\n",
      "   60     0.730840     9350.933267\n",
      "   61     0.731060     9348.329890\n",
      "   62     0.731280     9345.788945\n",
      "   63     0.731260     9343.308030\n",
      "   64     0.731360     9340.884884\n",
      "   65     0.731500     9338.517369\n",
      "   66     0.731660     9336.203467\n",
      "   67     0.731800     9333.941268\n",
      "   68     0.731960     9331.728961\n",
      "   69     0.732020     9329.564828\n",
      "   70     0.732140     9327.447236\n",
      "   71     0.732200     9325.374635\n",
      "   72     0.732240     9323.345546\n",
      "   73     0.732280     9321.358561\n",
      "   74     0.732240     9319.412336\n",
      "   75     0.732340     9317.505589\n",
      "   76     0.732580     9315.637094\n",
      "   77     0.732660     9313.805679\n",
      "   78     0.732540     9312.010221\n",
      "   79     0.732680     9310.249645\n",
      "   80     0.732880     9308.522921\n",
      "   81     0.732900     9306.829059\n",
      "   82     0.732940     9305.167112\n",
      "   83     0.733060     9303.536168\n",
      "   84     0.733160     9301.935350\n",
      "   85     0.733320     9300.363816\n",
      "   86     0.733340     9298.820756\n",
      "   87     0.733420     9297.305390\n",
      "   88     0.733240     9295.816966\n",
      "   89     0.733340     9294.354761\n",
      "   90     0.733540     9292.918075\n",
      "   91     0.733840     9291.506237\n",
      "   92     0.734080     9290.118596\n",
      "   93     0.734180     9288.754527\n",
      "   94     0.734200     9287.413422\n",
      "   95     0.734220     9286.094699\n",
      "   96     0.734220     9284.797791\n",
      "   97     0.734380     9283.522152\n",
      "   98     0.734420     9282.267255\n",
      "   99     0.734380     9281.032588\n",
      "  100     0.734560     9279.817657\n"
     ]
    }
   ],
   "source": [
    "p0 = Perceptron()\n",
    "p0.train(linear_dataset_train, 100, \"verbose\")"
   ]
  },
  {
   "cell_type": "code",
   "execution_count": 11,
   "metadata": {
    "colab": {
     "base_uri": "https://localhost:8080/",
     "height": 34
    },
    "colab_type": "code",
    "executionInfo": {
     "elapsed": 187974,
     "status": "ok",
     "timestamp": 1553103209465,
     "user": {
      "displayName": "Alexandre Thurow",
      "photoUrl": "",
      "userId": "08276326937754960127"
     },
     "user_tz": 180
    },
    "id": "_9lO3YeiQgLL",
    "outputId": "e484b57a-408c-4322-e470-5335d1788333"
   },
   "outputs": [
    {
     "name": "stdout",
     "output_type": "stream",
     "text": [
      "Train Accuracy:  0.73524 \tTest Accuracy:  0.7268\n"
     ]
    }
   ],
   "source": [
    "# Avalie o modelo treinado aqui\n",
    "# Como a acurácia no conjunto de teste se compara com a acurácia obtida no conjunto de treino?\n",
    "\n",
    "# A acurácia no conjunto de treino é maior devido ao overfitting do conjunto de treinamento.\n",
    "# Analogamente, a acurácia do conjunto de teste é menor justamente pelo fato de que as imagens do \n",
    "# conjunto de teste nunca foram apresentadas ao modelo.\n",
    "\n",
    "accuracy_train = p0.evaluate(linear_dataset_train)\n",
    "accuracy_test = p0.evaluate(linear_dataset_test)\n",
    "\n",
    "print(\"Train Accuracy: \", accuracy_train, \"\\tTest Accuracy: \", accuracy_test)\n"
   ]
  },
  {
   "cell_type": "code",
   "execution_count": 12,
   "metadata": {
    "colab": {
     "base_uri": "https://localhost:8080/",
     "height": 571
    },
    "colab_type": "code",
    "executionInfo": {
     "elapsed": 1232,
     "status": "ok",
     "timestamp": 1553103959536,
     "user": {
      "displayName": "Alexandre Thurow",
      "photoUrl": "",
      "userId": "08276326937754960127"
     },
     "user_tz": 180
    },
    "id": "EJGWONhCQgLQ",
    "outputId": "c7a07506-837f-4544-9e0a-1a6d60d403ed"
   },
   "outputs": [
    {
     "data": {
      "image/png": "[encoded data removed]",
      "text/plain": [
       "<Figure size 432x288 with 1 Axes>"
      ]
     },
     "metadata": {
      "needs_background": "light"
     },
     "output_type": "display_data"
    },
    {
     "data": {
      "image/png": "[encoded data removed]",
      "text/plain": [
       "<Figure size 432x288 with 1 Axes>"
      ]
     },
     "metadata": {
      "needs_background": "light"
     },
     "output_type": "display_data"
    }
   ],
   "source": [
    "# Caso queiram plotar alguma coisa\n",
    "\n",
    "p0.plotResults()\n"
   ]
  },
  {
   "cell_type": "markdown",
   "metadata": {
    "colab_type": "text",
    "id": "7KG_k7DbQgLV"
   },
   "source": [
    "# Classificando classes individuais\n",
    "\n",
    "Implemente aqui a modificação do processo de avaliação e treinamento para poder classificar cada classe individualmente.\n",
    "\n",
    "- Ideia geral: treinar um perceptron por classe (exemplo positivo = exemplos da classe; exemplos negativos = exemplo de todas outras classes)\n",
    "- Dado um exemplo qualquer, como decidir qual perceptron está dando a classe correta?"
   ]
  },
  {
   "cell_type": "code",
   "execution_count": 13,
   "metadata": {},
   "outputs": [],
   "source": [
    "def classes_get(x):\n",
    "    return {\n",
    "        0: \"plane\",\n",
    "        1: \"car\",\n",
    "        2: \"bird\",\n",
    "        3: \"cat\",\n",
    "        4: \"deer\",\n",
    "        5: \"dog\",\n",
    "        6: \"frog\",\n",
    "        7: \"horse\",\n",
    "        8: \"ship\",\n",
    "        9: \"truck\",\n",
    "    }[x]"
   ]
  },
  {
   "cell_type": "code",
   "execution_count": 14,
   "metadata": {
    "colab": {},
    "colab_type": "code",
    "id": "hIHMCwAaQgLW"
   },
   "outputs": [],
   "source": [
    "# converter para vetores 1D\n",
    "\n",
    "linear_dataset_array_train = [[] for i in range(10)]\n",
    "linear_dataset_array_test = [[] for i in range(10)]\n",
    "\n",
    "for index in range(10):\n",
    "    \n",
    "    target_labels = classes_get(index)\n",
    "    for img,category in grayscale_dataset_train:\n",
    "        linear_img = img.reshape(img.shape[0]*img.shape[1],1) / 255\n",
    "        #linear_img = img\n",
    "        if category in target_labels:\n",
    "            label = 1\n",
    "        else:\n",
    "            label = 0\n",
    "        linear_dataset_array_train[index].append((linear_img,label))\n",
    "\n",
    "    \n",
    "    \n",
    "    for img,category in grayscale_dataset_test:\n",
    "        linear_img = img.reshape(img.shape[0]*img.shape[1],1) / 255\n",
    "        #linear_img = img\n",
    "        if category in target_labels:\n",
    "            label = 1\n",
    "        else:\n",
    "            label = 0\n",
    "        linear_dataset_array_test[index].append((linear_img,label))\n",
    "    "
   ]
  },
  {
   "cell_type": "code",
   "execution_count": 15,
   "metadata": {
    "colab": {},
    "colab_type": "code",
    "id": "hIHMCwAaQgLW"
   },
   "outputs": [
    {
     "name": "stdout",
     "output_type": "stream",
     "text": [
      "10\n",
      "50000\n",
      "10\n",
      "10000\n"
     ]
    }
   ],
   "source": [
    "print(len(linear_dataset_array_train))\n",
    "print(len(linear_dataset_array_train[0]))\n",
    "\n",
    "print(len(linear_dataset_array_test))\n",
    "print(len(linear_dataset_array_test[0]))"
   ]
  },
  {
   "cell_type": "code",
   "execution_count": 19,
   "metadata": {
    "colab": {},
    "colab_type": "code",
    "id": "hIHMCwAaQgLW"
   },
   "outputs": [
    {
     "name": "stdout",
     "output_type": "stream",
     "text": [
      "############################################\n",
      "Training Perceptron 0\n",
      "    1     0.801040     7793.288696\n",
      "    2     0.876560     5749.070766\n",
      "    3     0.887740     5415.513162\n",
      "    4     0.891920     5281.747766\n",
      "    5     0.893860     5210.555030\n",
      "    6     0.895280     5166.646679\n",
      "    7     0.896320     5136.978220\n",
      "    8     0.896880     5115.645346\n",
      "    9     0.897160     5099.598153\n",
      "   10     0.897560     5087.106522\n",
      "   11     0.897760     5077.117774\n",
      "   12     0.898020     5068.955555\n",
      "   13     0.898220     5062.165925\n",
      "   14     0.898380     5056.433140\n",
      "   15     0.898560     5051.530931\n",
      "   16     0.898600     5047.292998\n",
      "   17     0.898640     5043.594436\n",
      "   18     0.898760     5040.339650\n",
      "   19     0.898800     5037.454258\n",
      "   20     0.898860     5034.879533\n",
      "   21     0.898900     5032.568506\n",
      "   22     0.898960     5030.483171\n",
      "   23     0.899020     5028.592449\n",
      "   24     0.899060     5026.870688\n",
      "   25     0.899100     5025.296528\n",
      "   26     0.899100     5023.852043\n",
      "   27     0.899160     5022.522082\n",
      "   28     0.899240     5021.293749\n",
      "   29     0.899340     5020.156006\n",
      "   30     0.899360     5019.099346\n",
      "   31     0.899380     5018.115541\n",
      "   32     0.899380     5017.197430\n",
      "   33     0.899400     5016.338758\n",
      "   34     0.899460     5015.534034\n",
      "   35     0.899540     5014.778416\n",
      "   36     0.899580     5014.067626\n",
      "   37     0.899620     5013.397860\n",
      "   38     0.899640     5012.765734\n",
      "   39     0.899660     5012.168221\n",
      "   40     0.899660     5011.602609\n",
      "   41     0.899640     5011.066461\n",
      "   42     0.899640     5010.557578\n",
      "   43     0.899660     5010.073974\n",
      "   44     0.899660     5009.613852\n",
      "   45     0.899640     5009.175576\n",
      "   46     0.899660     5008.757661\n",
      "   47     0.899660     5008.358750\n",
      "   48     0.899680     5007.977605\n",
      "   49     0.899700     5007.613091\n",
      "   50     0.899720     5007.264168\n",
      "   51     0.899720     5006.929879\n",
      "   52     0.899720     5006.609343\n",
      "   53     0.899720     5006.301750\n",
      "   54     0.899720     5006.006349\n",
      "   55     0.899720     5005.722447\n",
      "   56     0.899720     5005.449402\n",
      "   57     0.899720     5005.186618\n",
      "   58     0.899740     5004.933542\n",
      "   59     0.899740     5004.689658\n",
      "   60     0.899740     5004.454489\n",
      "   61     0.899740     5004.227587\n",
      "   62     0.899740     5004.008534\n",
      "   63     0.899740     5003.796942\n",
      "   64     0.899740     5003.592445\n",
      "   65     0.899740     5003.394701\n",
      "   66     0.899740     5003.203392\n",
      "   67     0.899740     5003.018215\n",
      "   68     0.899740     5002.838889\n",
      "   69     0.899740     5002.665149\n",
      "   70     0.899740     5002.496744\n",
      "   71     0.899740     5002.333440\n",
      "   72     0.899740     5002.175014\n",
      "   73     0.899740     5002.021257\n",
      "   74     0.899740     5001.871972\n",
      "   75     0.899760     5001.726972\n",
      "   76     0.899760     5001.586079\n",
      "   77     0.899760     5001.449128\n",
      "   78     0.899760     5001.315959\n",
      "   79     0.899760     5001.186422\n",
      "   80     0.899760     5001.060376\n",
      "   81     0.899760     5000.937684\n",
      "   82     0.899760     5000.818219\n",
      "   83     0.899760     5000.701858\n",
      "   84     0.899760     5000.588486\n",
      "   85     0.899760     5000.477993\n",
      "   86     0.899760     5000.370272\n",
      "   87     0.899760     5000.265224\n",
      "   88     0.899760     5000.162754\n",
      "   89     0.899760     5000.062771\n",
      "   90     0.899760     4999.965188\n",
      "   91     0.899760     4999.869921\n",
      "   92     0.899760     4999.776892\n",
      "   93     0.899760     4999.686025\n",
      "   94     0.899760     4999.597248\n",
      "   95     0.899760     4999.510491\n",
      "   96     0.899760     4999.425689\n",
      "   97     0.899760     4999.342777\n",
      "   98     0.899760     4999.261695\n",
      "   99     0.899760     4999.182386\n",
      "  100     0.899760     4999.104792\n",
      "\n",
      "Train Accuracy:  0.89976 \tTest Accuracy:  0.8999 \n",
      "\n"
     ]
    },
    {
     "data": {
      "image/png": "[encoded data removed]",
      "text/plain": [
       "<Figure size 432x288 with 1 Axes>"
      ]
     },
     "metadata": {
      "needs_background": "light"
     },
     "output_type": "display_data"
    },
    {
     "data": {
      "image/png": "[encoded data removed]",
      "text/plain": [
       "<Figure size 432x288 with 1 Axes>"
      ]
     },
     "metadata": {
      "needs_background": "light"
     },
     "output_type": "display_data"
    },
    {
     "name": "stdout",
     "output_type": "stream",
     "text": [
      "\n",
      "\n",
      "\n",
      "############################################\n",
      "Training Perceptron 1\n",
      "    1     0.565100    16048.697412\n",
      "    2     0.867880     5608.027386\n",
      "    3     0.883200     5179.606909\n",
      "    4     0.887580     5057.076165\n",
      "    5     0.889980     5001.576886\n",
      "    6     0.891560     4970.867477\n",
      "    7     0.892700     4951.754736\n",
      "    8     0.893420     4938.874758\n",
      "    9     0.894200     4929.670391\n",
      "   10     0.894640     4922.783039\n",
      "   11     0.894840     4917.431478\n",
      "   12     0.895120     4913.138455\n",
      "   13     0.895340     4909.598105\n",
      "   14     0.895460     4906.606628\n",
      "   15     0.895620     4904.023780\n",
      "   16     0.895720     4901.750396\n",
      "   17     0.895940     4899.714712\n",
      "   18     0.896100     4897.863745\n",
      "   19     0.896240     4896.157687\n",
      "   20     0.896380     4894.566173\n",
      "   21     0.896380     4893.065718\n",
      "   22     0.896400     4891.637948\n",
      "   23     0.896440     4890.268324\n",
      "   24     0.896480     4888.945238\n",
      "   25     0.896520     4887.659338\n",
      "   26     0.896620     4886.403033\n",
      "   27     0.896640     4885.170119\n",
      "   28     0.896640     4883.955496\n",
      "   29     0.896720     4882.754945\n",
      "   30     0.896780     4881.564963\n",
      "   31     0.896780     4880.382626\n",
      "   32     0.896780     4879.205488\n",
      "   33     0.896780     4878.031492\n",
      "   34     0.896800     4876.858910\n",
      "   35     0.896760     4875.686283\n",
      "   36     0.896780     4874.512381\n",
      "   37     0.896760     4873.336164\n",
      "   38     0.896760     4872.156754\n",
      "   39     0.896720     4870.973413\n",
      "   40     0.896720     4869.785519\n",
      "   41     0.896760     4868.592549\n",
      "   42     0.896760     4867.394069\n",
      "   43     0.896780     4866.189719\n",
      "   44     0.896780     4864.979202\n",
      "   45     0.896760     4863.762280\n",
      "   46     0.896780     4862.538760\n",
      "   47     0.896760     4861.308495\n",
      "   48     0.896780     4860.071371\n",
      "   49     0.896760     4858.827312\n",
      "   50     0.896740     4857.576264\n",
      "   51     0.896780     4856.318205\n",
      "   52     0.896740     4855.053129\n",
      "   53     0.896740     4853.781053\n",
      "   54     0.896760     4852.502012\n",
      "   55     0.896720     4851.216053\n",
      "   56     0.896700     4849.923239\n",
      "   57     0.896680     4848.623645\n",
      "   58     0.896660     4847.317356\n",
      "   59     0.896600     4846.004467\n",
      "   60     0.896600     4844.685081\n",
      "   61     0.896600     4843.359311\n",
      "   62     0.896580     4842.027273\n",
      "   63     0.896580     4840.689093\n",
      "   64     0.896600     4839.344900\n",
      "   65     0.896580     4837.994828\n",
      "   66     0.896540     4836.639018\n",
      "   67     0.896540     4835.277613\n",
      "   68     0.896540     4833.910760\n",
      "   69     0.896520     4832.538609\n",
      "   70     0.896540     4831.161315\n",
      "   71     0.896480     4829.779034\n",
      "   72     0.896420     4828.391924\n",
      "   73     0.896380     4827.000146\n",
      "   74     0.896360     4825.603864\n",
      "   75     0.896340     4824.203243\n",
      "   76     0.896360     4822.798449\n",
      "   77     0.896340     4821.389651\n",
      "   78     0.896320     4819.977019\n",
      "   79     0.896300     4818.560721\n",
      "   80     0.896320     4817.140931\n",
      "   81     0.896320     4815.717821\n",
      "   82     0.896280     4814.291564\n",
      "   83     0.896240     4812.862333\n",
      "   84     0.896240     4811.430303\n",
      "   85     0.896320     4809.995649\n",
      "   86     0.896340     4808.558544\n",
      "   87     0.896380     4807.119164\n",
      "   88     0.896300     4805.677682\n",
      "   89     0.896340     4804.234274\n",
      "   90     0.896380     4802.789112\n",
      "   91     0.896340     4801.342371\n",
      "   92     0.896340     4799.894222\n",
      "   93     0.896400     4798.444838\n",
      "   94     0.896420     4796.994389\n",
      "   95     0.896420     4795.543046\n",
      "   96     0.896400     4794.090977\n",
      "   97     0.896400     4792.638350\n",
      "   98     0.896440     4791.185330\n",
      "   99     0.896420     4789.732082\n",
      "  100     0.896340     4788.278770\n",
      "\n",
      "Train Accuracy:  0.89632 \tTest Accuracy:  0.8959 \n",
      "\n"
     ]
    },
    {
     "data": {
      "image/png": "[encoded data removed]",
      "text/plain": [
       "<Figure size 432x288 with 1 Axes>"
      ]
     },
     "metadata": {
      "needs_background": "light"
     },
     "output_type": "display_data"
    },
    {
     "data": {
      "image/png": "[encoded data removed]",
      "text/plain": [
       "<Figure size 432x288 with 1 Axes>"
      ]
     },
     "metadata": {
      "needs_background": "light"
     },
     "output_type": "display_data"
    },
    {
     "name": "stdout",
     "output_type": "stream",
     "text": [
      "\n",
      "\n",
      "\n",
      "############################################\n",
      "Training Perceptron 2\n",
      "    1     0.521900    17827.362247\n",
      "    2     0.844920     6326.867875\n",
      "    3     0.876120     5543.153804\n",
      "    4     0.885320     5313.742245\n",
      "    5     0.889100     5209.156798\n",
      "    6     0.891260     5150.661627\n",
      "    7     0.892760     5113.804426\n",
      "    8     0.893680     5088.691217\n",
      "    9     0.894500     5070.604726\n",
      "   10     0.895100     5057.028311\n",
      "   11     0.895600     5046.504542\n",
      "   12     0.896200     5038.134785\n",
      "   13     0.896420     5031.336800\n",
      "   14     0.896600     5025.717861\n",
      "   15     0.896820     5021.004091\n",
      "   16     0.897020     5016.999054\n",
      "   17     0.897140     5013.558433\n",
      "   18     0.897260     5010.573976\n",
      "   19     0.897400     5007.962997\n",
      "   20     0.897540     5005.661319\n",
      "   21     0.897660     5003.618420\n",
      "   22     0.897740     5001.794020\n",
      "   23     0.897780     5000.155634\n",
      "   24     0.897880     4998.676794\n",
      "   25     0.897920     4997.335729\n",
      "   26     0.898000     4996.114381\n",
      "   27     0.898020     4994.997650\n",
      "   28     0.898140     4993.972823\n",
      "   29     0.898200     4993.029120\n",
      "   30     0.898220     4992.157347\n",
      "   31     0.898280     4991.349620\n",
      "   32     0.898300     4990.599135\n",
      "   33     0.898380     4989.899999\n",
      "   34     0.898380     4989.247079\n",
      "   35     0.898440     4988.635888\n",
      "   36     0.898520     4988.062484\n",
      "   37     0.898540     4987.523395\n",
      "   38     0.898620     4987.015548\n",
      "   39     0.898680     4986.536215\n",
      "   40     0.898700     4986.082968\n",
      "   41     0.898700     4985.653639\n",
      "   42     0.898740     4985.246283\n",
      "   43     0.898800     4984.859156\n",
      "   44     0.898820     4984.490685\n",
      "   45     0.898840     4984.139452\n",
      "   46     0.898900     4983.804172\n",
      "   47     0.898920     4983.483681\n",
      "   48     0.898900     4983.176919\n",
      "   49     0.898920     4982.882922\n",
      "   50     0.898960     4982.600810\n",
      "   51     0.898960     4982.329778\n",
      "   52     0.898980     4982.069088\n",
      "   53     0.898980     4981.818065\n",
      "   54     0.899020     4981.576085\n",
      "   55     0.899040     4981.342577\n",
      "   56     0.899040     4981.117013\n",
      "   57     0.899040     4980.898904\n",
      "   58     0.899060     4980.687800\n",
      "   59     0.899060     4980.483284\n",
      "   60     0.899060     4980.284967\n",
      "   61     0.899060     4980.092491\n",
      "   62     0.899100     4979.905522\n",
      "   63     0.899100     4979.723747\n",
      "   64     0.899120     4979.546877\n",
      "   65     0.899120     4979.374642\n",
      "   66     0.899160     4979.206788\n",
      "   67     0.899160     4979.043081\n",
      "   68     0.899160     4978.883297\n",
      "   69     0.899160     4978.727231\n",
      "   70     0.899180     4978.574688\n",
      "   71     0.899180     4978.425486\n",
      "   72     0.899180     4978.279453\n",
      "   73     0.899180     4978.136428\n",
      "   74     0.899180     4977.996260\n",
      "   75     0.899200     4977.858805\n",
      "   76     0.899200     4977.723930\n",
      "   77     0.899200     4977.591507\n",
      "   78     0.899220     4977.461416\n",
      "   79     0.899220     4977.333544\n",
      "   80     0.899220     4977.207783\n",
      "   81     0.899220     4977.084032\n",
      "   82     0.899220     4976.962196\n",
      "   83     0.899220     4976.842182\n",
      "   84     0.899220     4976.723905\n",
      "   85     0.899240     4976.607283\n",
      "   86     0.899240     4976.492238\n",
      "   87     0.899240     4976.378696\n",
      "   88     0.899240     4976.266587\n",
      "   89     0.899240     4976.155843\n",
      "   90     0.899240     4976.046402\n",
      "   91     0.899240     4975.938202\n",
      "   92     0.899240     4975.831187\n",
      "   93     0.899220     4975.725300\n",
      "   94     0.899200     4975.620489\n",
      "   95     0.899200     4975.516705\n",
      "   96     0.899200     4975.413898\n",
      "   97     0.899220     4975.312024\n",
      "   98     0.899220     4975.211039\n",
      "   99     0.899220     4975.110901\n",
      "  100     0.899220     4975.011569\n",
      "\n",
      "Train Accuracy:  0.89922 \tTest Accuracy:  0.8989 \n",
      "\n"
     ]
    },
    {
     "data": {
      "image/png": "[encoded data removed]",
      "text/plain": [
       "<Figure size 432x288 with 1 Axes>"
      ]
     },
     "metadata": {
      "needs_background": "light"
     },
     "output_type": "display_data"
    },
    {
     "data": {
      "image/png": "[encoded data removed]",
      "text/plain": [
       "<Figure size 432x288 with 1 Axes>"
      ]
     },
     "metadata": {
      "needs_background": "light"
     },
     "output_type": "display_data"
    },
    {
     "name": "stdout",
     "output_type": "stream",
     "text": [
      "\n",
      "\n",
      "\n",
      "############################################\n",
      "Training Perceptron 3\n",
      "    1     0.851100     6162.237989\n",
      "    2     0.879280     5375.760858\n",
      "    3     0.886220     5197.300409\n",
      "    4     0.889400     5119.751979\n",
      "    5     0.890940     5076.960635\n",
      "    6     0.892060     5050.089734\n",
      "    7     0.892960     5031.777133\n",
      "    8     0.893660     5018.569296\n",
      "    9     0.894480     5008.637934\n",
      "   10     0.895200     5000.927519\n",
      "   11     0.895540     4994.787491\n",
      "   12     0.895880     4989.795840\n",
      "   13     0.896160     4985.667318\n",
      "   14     0.896340     4982.202487\n",
      "   15     0.896420     4979.257901\n",
      "   16     0.896520     4976.727884\n",
      "   17     0.896740     4974.532954\n",
      "   18     0.896900     4972.612254\n",
      "   19     0.897040     4970.918443\n",
      "   20     0.897100     4969.414185\n",
      "   21     0.897280     4968.069662\n",
      "   22     0.897300     4966.860797\n",
      "   23     0.897440     4965.767952\n",
      "   24     0.897580     4964.774966\n",
      "   25     0.897620     4963.868427\n",
      "   26     0.897680     4963.037119\n",
      "   27     0.897700     4962.271602\n",
      "   28     0.897760     4961.563875\n",
      "   29     0.897780     4960.907119\n",
      "   30     0.897860     4960.295491\n",
      "   31     0.897860     4959.723957\n",
      "   32     0.897920     4959.188160\n",
      "   33     0.897920     4958.684315\n",
      "   34     0.897960     4958.209115\n",
      "   35     0.897960     4957.759664\n",
      "   36     0.898000     4957.333415\n",
      "   37     0.898060     4956.928121\n",
      "   38     0.898100     4956.541790\n",
      "   39     0.898140     4956.172656\n",
      "   40     0.898160     4955.819144\n",
      "   41     0.898200     4955.479848\n",
      "   42     0.898240     4955.153509\n",
      "   43     0.898240     4954.838998\n",
      "   44     0.898280     4954.535298\n",
      "   45     0.898320     4954.241491\n",
      "   46     0.898360     4953.956749\n",
      "   47     0.898380     4953.680321\n",
      "   48     0.898400     4953.411528\n",
      "   49     0.898440     4953.149749\n",
      "   50     0.898460     4952.894421\n",
      "   51     0.898460     4952.645030\n",
      "   52     0.898480     4952.401106\n",
      "   53     0.898540     4952.162220\n",
      "   54     0.898540     4951.927977\n",
      "   55     0.898560     4951.698015\n",
      "   56     0.898560     4951.472003\n",
      "   57     0.898560     4951.249633\n",
      "   58     0.898580     4951.030625\n",
      "   59     0.898600     4950.814718\n",
      "   60     0.898600     4950.601672\n",
      "   61     0.898640     4950.391264\n",
      "   62     0.898640     4950.183289\n",
      "   63     0.898660     4949.977556\n",
      "   64     0.898700     4949.773889\n",
      "   65     0.898700     4949.572122\n",
      "   66     0.898700     4949.372103\n",
      "   67     0.898680     4949.173690\n",
      "   68     0.898680     4948.976750\n",
      "   69     0.898700     4948.781161\n",
      "   70     0.898700     4948.586807\n",
      "   71     0.898700     4948.393580\n",
      "   72     0.898700     4948.201381\n",
      "   73     0.898720     4948.010116\n",
      "   74     0.898720     4947.819697\n",
      "   75     0.898720     4947.630041\n",
      "   76     0.898720     4947.441072\n",
      "   77     0.898740     4947.252718\n",
      "   78     0.898760     4947.064911\n",
      "   79     0.898760     4946.877588\n",
      "   80     0.898760     4946.690689\n",
      "   81     0.898760     4946.504158\n",
      "   82     0.898760     4946.317942\n",
      "   83     0.898760     4946.131993\n",
      "   84     0.898760     4945.946264\n",
      "   85     0.898760     4945.760710\n",
      "   86     0.898760     4945.575291\n",
      "   87     0.898760     4945.389968\n",
      "   88     0.898760     4945.204705\n",
      "   89     0.898760     4945.019467\n",
      "   90     0.898760     4944.834222\n",
      "   91     0.898760     4944.648939\n",
      "   92     0.898760     4944.463590\n",
      "   93     0.898760     4944.278148\n",
      "   94     0.898760     4944.092586\n",
      "   95     0.898760     4943.906881\n",
      "   96     0.898760     4943.721010\n",
      "   97     0.898760     4943.534952\n",
      "   98     0.898760     4943.348686\n",
      "   99     0.898760     4943.162194\n",
      "  100     0.898760     4942.975457\n",
      "\n",
      "Train Accuracy:  0.89874 \tTest Accuracy:  0.8985 \n",
      "\n"
     ]
    },
    {
     "data": {
      "image/png": "[encoded data removed]",
      "text/plain": [
       "<Figure size 432x288 with 1 Axes>"
      ]
     },
     "metadata": {
      "needs_background": "light"
     },
     "output_type": "display_data"
    },
    {
     "data": {
      "image/png": "[encoded data removed]",
      "text/plain": [
       "<Figure size 432x288 with 1 Axes>"
      ]
     },
     "metadata": {
      "needs_background": "light"
     },
     "output_type": "display_data"
    },
    {
     "name": "stdout",
     "output_type": "stream",
     "text": [
      "\n",
      "\n",
      "\n",
      "############################################\n",
      "Training Perceptron 4\n",
      "    1     0.847220     6412.772089\n",
      "    2     0.878620     5507.721601\n",
      "    3     0.886740     5295.552518\n",
      "    4     0.890140     5201.323417\n",
      "    5     0.892100     5148.746920\n",
      "    6     0.893700     5115.573052\n",
      "    7     0.894820     5092.935192\n",
      "    8     0.895600     5076.614767\n",
      "    9     0.895900     5064.357159\n",
      "   10     0.896340     5054.853230\n",
      "   11     0.896600     5047.293825\n",
      "   12     0.897020     5041.153691\n",
      "   13     0.897300     5036.078089\n",
      "   14     0.897500     5031.819453\n",
      "   15     0.897520     5028.200170\n",
      "   16     0.897600     5025.089761\n",
      "   17     0.897680     5022.390390\n",
      "   18     0.897760     5020.027369\n",
      "   19     0.897860     5017.942768\n",
      "   20     0.897920     5016.091019\n",
      "   21     0.897980     5014.435820\n",
      "   22     0.898020     5012.947919\n",
      "   23     0.898080     5011.603502\n",
      "   24     0.898220     5010.382998\n",
      "   25     0.898220     5009.270183\n",
      "   26     0.898320     5008.251503\n",
      "   27     0.898420     5007.315552\n",
      "   28     0.898500     5006.452664\n",
      "   29     0.898540     5005.654602\n",
      "   30     0.898580     5004.914300\n",
      "   31     0.898640     5004.225668\n",
      "   32     0.898640     5003.583429\n",
      "   33     0.898680     5002.982990\n",
      "   34     0.898700     5002.420335\n",
      "   35     0.898740     5001.891937\n",
      "   36     0.898760     5001.394689\n",
      "   37     0.898780     5000.925840\n",
      "   38     0.898780     5000.482951\n",
      "   39     0.898800     5000.063847\n",
      "   40     0.898820     4999.666587\n",
      "   41     0.898840     4999.289429\n",
      "   42     0.898840     4998.930811\n",
      "   43     0.898840     4998.589323\n",
      "   44     0.898860     4998.263693\n",
      "   45     0.898860     4997.952769\n",
      "   46     0.898860     4997.655505\n",
      "   47     0.898880     4997.370951\n",
      "   48     0.898920     4997.098238\n",
      "   49     0.898940     4996.836577\n",
      "   50     0.898940     4996.585241\n",
      "   51     0.898940     4996.343568\n",
      "   52     0.898980     4996.110947\n",
      "   53     0.899000     4995.886817\n",
      "   54     0.899020     4995.670662\n",
      "   55     0.899020     4995.462003\n",
      "   56     0.899020     4995.260401\n",
      "   57     0.899040     4995.065446\n",
      "   58     0.899060     4994.876760\n",
      "   59     0.899060     4994.693992\n",
      "   60     0.899060     4994.516815\n",
      "   61     0.899080     4994.344925\n",
      "   62     0.899080     4994.178040\n",
      "   63     0.899100     4994.015894\n",
      "   64     0.899100     4993.858241\n",
      "   65     0.899120     4993.704850\n",
      "   66     0.899120     4993.555505\n",
      "   67     0.899120     4993.410004\n",
      "   68     0.899140     4993.268156\n",
      "   69     0.899140     4993.129784\n",
      "   70     0.899140     4992.994720\n",
      "   71     0.899140     4992.862805\n",
      "   72     0.899140     4992.733892\n",
      "   73     0.899140     4992.607840\n",
      "   74     0.899140     4992.484519\n",
      "   75     0.899180     4992.363801\n",
      "   76     0.899200     4992.245572\n",
      "   77     0.899200     4992.129718\n",
      "   78     0.899200     4992.016134\n",
      "   79     0.899200     4991.904721\n",
      "   80     0.899220     4991.795384\n",
      "   81     0.899240     4991.688033\n",
      "   82     0.899240     4991.582584\n",
      "   83     0.899240     4991.478954\n",
      "   84     0.899260     4991.377068\n",
      "   85     0.899260     4991.276853\n",
      "   86     0.899260     4991.178237\n",
      "   87     0.899260     4991.081157\n",
      "   88     0.899260     4990.985547\n",
      "   89     0.899260     4990.891348\n",
      "   90     0.899260     4990.798503\n",
      "   91     0.899260     4990.706956\n",
      "   92     0.899260     4990.616656\n",
      "   93     0.899260     4990.527552\n",
      "   94     0.899260     4990.439596\n",
      "   95     0.899260     4990.352742\n",
      "   96     0.899260     4990.266947\n",
      "   97     0.899280     4990.182168\n",
      "   98     0.899280     4990.098365\n",
      "   99     0.899280     4990.015500\n",
      "  100     0.899280     4989.933536\n",
      "\n",
      "Train Accuracy:  0.89928 \tTest Accuracy:  0.8996 \n",
      "\n"
     ]
    },
    {
     "data": {
      "image/png": "[encoded data removed]",
      "text/plain": [
       "<Figure size 432x288 with 1 Axes>"
      ]
     },
     "metadata": {
      "needs_background": "light"
     },
     "output_type": "display_data"
    },
    {
     "data": {
      "image/png": "[encoded data removed]",
      "text/plain": [
       "<Figure size 432x288 with 1 Axes>"
      ]
     },
     "metadata": {
      "needs_background": "light"
     },
     "output_type": "display_data"
    },
    {
     "name": "stdout",
     "output_type": "stream",
     "text": [
      "\n",
      "\n",
      "\n",
      "############################################\n",
      "Training Perceptron 5\n",
      "    1     0.107920    42653.092516\n",
      "    2     0.184800    34733.894580\n",
      "    3     0.770940     8716.387537\n",
      "    4     0.871860     5726.466489\n",
      "    5     0.883800     5371.077147\n",
      "    6     0.888320     5240.423470\n",
      "    7     0.891160     5173.646942\n",
      "    8     0.892780     5133.556212\n",
      "    9     0.894080     5107.038306\n",
      "   10     0.894940     5088.313423\n",
      "   11     0.895460     5074.449905\n",
      "   12     0.895820     5063.808887\n",
      "   13     0.896100     5055.406030\n",
      "   14     0.896340     5048.616402\n",
      "   15     0.896700     5043.025272\n",
      "   16     0.897080     5038.347223\n",
      "   17     0.897240     5034.379772\n",
      "   18     0.897340     5030.975513\n",
      "   19     0.897540     5028.024724\n",
      "   20     0.897620     5025.444140\n",
      "   21     0.897720     5023.169486\n",
      "   22     0.897840     5021.150397\n",
      "   23     0.897900     5019.346874\n",
      "   24     0.898000     5017.726766\n",
      "   25     0.898080     5016.263945\n",
      "   26     0.898240     5014.936973\n",
      "   27     0.898260     5013.728096\n",
      "   28     0.898340     5012.622496\n",
      "   29     0.898420     5011.607707\n",
      "   30     0.898480     5010.673169\n",
      "   31     0.898500     5009.809885\n",
      "   32     0.898580     5009.010136\n",
      "   33     0.898600     5008.267268\n",
      "   34     0.898620     5007.575516\n",
      "   35     0.898660     5006.929857\n",
      "   36     0.898720     5006.325900\n",
      "   37     0.898740     5005.759786\n",
      "   38     0.898740     5005.228113\n",
      "   39     0.898740     5004.727868\n",
      "   40     0.898760     5004.256378\n",
      "   41     0.898760     5003.811259\n",
      "   42     0.898800     5003.390378\n",
      "   43     0.898840     5002.991825\n",
      "   44     0.898860     5002.613883\n",
      "   45     0.898880     5002.255002\n",
      "   46     0.898900     5001.913782\n",
      "   47     0.898900     5001.588955\n",
      "   48     0.898940     5001.279369\n",
      "   49     0.898980     5000.983976\n",
      "   50     0.899000     5000.701820\n",
      "   51     0.899000     5000.432027\n",
      "   52     0.899000     5000.173798\n",
      "   53     0.899020     4999.926399\n",
      "   54     0.899000     4999.689156\n",
      "   55     0.899040     4999.461448\n",
      "   56     0.899060     4999.242703\n",
      "   57     0.899080     4999.032394\n",
      "   58     0.899120     4998.830031\n",
      "   59     0.899120     4998.635163\n",
      "   60     0.899140     4998.447370\n",
      "   61     0.899140     4998.266262\n",
      "   62     0.899140     4998.091478\n",
      "   63     0.899140     4997.922680\n",
      "   64     0.899140     4997.759554\n",
      "   65     0.899160     4997.601807\n",
      "   66     0.899180     4997.449164\n",
      "   67     0.899180     4997.301370\n",
      "   68     0.899180     4997.158184\n",
      "   69     0.899180     4997.019382\n",
      "   70     0.899180     4996.884753\n",
      "   71     0.899200     4996.754099\n",
      "   72     0.899240     4996.627234\n",
      "   73     0.899240     4996.503983\n",
      "   74     0.899220     4996.384180\n",
      "   75     0.899240     4996.267671\n",
      "   76     0.899240     4996.154308\n",
      "   77     0.899240     4996.043955\n",
      "   78     0.899240     4995.936479\n",
      "   79     0.899240     4995.831758\n",
      "   80     0.899240     4995.729674\n",
      "   81     0.899260     4995.630118\n",
      "   82     0.899260     4995.532984\n",
      "   83     0.899260     4995.438173\n",
      "   84     0.899260     4995.345591\n",
      "   85     0.899280     4995.255148\n",
      "   86     0.899280     4995.166759\n",
      "   87     0.899280     4995.080344\n",
      "   88     0.899320     4994.995825\n",
      "   89     0.899320     4994.913131\n",
      "   90     0.899340     4994.832190\n",
      "   91     0.899340     4994.752937\n",
      "   92     0.899360     4994.675309\n",
      "   93     0.899360     4994.599245\n",
      "   94     0.899360     4994.524688\n",
      "   95     0.899360     4994.451583\n",
      "   96     0.899380     4994.379877\n",
      "   97     0.899400     4994.309521\n",
      "   98     0.899400     4994.240466\n",
      "   99     0.899400     4994.172667\n",
      "  100     0.899400     4994.106080\n",
      "\n",
      "Train Accuracy:  0.8994 \tTest Accuracy:  0.899 \n",
      "\n"
     ]
    },
    {
     "data": {
      "image/png": "[encoded data removed]",
      "text/plain": [
       "<Figure size 432x288 with 1 Axes>"
      ]
     },
     "metadata": {
      "needs_background": "light"
     },
     "output_type": "display_data"
    },
    {
     "data": {
      "image/png": "[encoded data removed]",
      "text/plain": [
       "<Figure size 432x288 with 1 Axes>"
      ]
     },
     "metadata": {
      "needs_background": "light"
     },
     "output_type": "display_data"
    },
    {
     "name": "stdout",
     "output_type": "stream",
     "text": [
      "\n",
      "\n",
      "\n",
      "############################################\n",
      "Training Perceptron 6\n",
      "    1     0.584440    15379.993529\n",
      "    2     0.863980     5738.264878\n",
      "    3     0.882660     5280.397859\n",
      "    4     0.888320     5148.665662\n",
      "    5     0.890780     5088.442071\n",
      "    6     0.892540     5054.616605\n",
      "    7     0.893660     5033.221213\n",
      "    8     0.894400     5018.596841\n",
      "    9     0.895080     5008.039139\n",
      "   10     0.895600     5000.101120\n",
      "   11     0.895840     4993.941976\n",
      "   12     0.896200     4989.041392\n",
      "   13     0.896520     4985.060997\n",
      "   14     0.896620     4981.771736\n",
      "   15     0.896860     4979.013329\n",
      "   16     0.897000     4976.670462\n",
      "   17     0.897160     4974.658183\n",
      "   18     0.897280     4972.912620\n",
      "   19     0.897380     4971.384889\n",
      "   20     0.897540     4970.036993\n",
      "   21     0.897540     4968.838982\n",
      "   22     0.897640     4967.766962\n",
      "   23     0.897720     4966.801657\n",
      "   24     0.897780     4965.927360\n",
      "   25     0.897840     4965.131158\n",
      "   26     0.897900     4964.402347\n",
      "   27     0.897980     4963.731987\n",
      "   28     0.898060     4963.112563\n",
      "   29     0.898100     4962.537711\n",
      "   30     0.898080     4962.002018\n",
      "   31     0.898120     4961.500848\n",
      "   32     0.898160     4961.030215\n",
      "   33     0.898200     4960.586674\n",
      "   34     0.898220     4960.167234\n",
      "   35     0.898240     4959.769289\n",
      "   36     0.898340     4959.390559\n",
      "   37     0.898360     4959.029042\n",
      "   38     0.898420     4958.682973\n",
      "   39     0.898460     4958.350793\n",
      "   40     0.898460     4958.031119\n",
      "   41     0.898480     4957.722723\n",
      "   42     0.898500     4957.424509\n",
      "   43     0.898520     4957.135496\n",
      "   44     0.898540     4956.854809\n",
      "   45     0.898560     4956.581657\n",
      "   46     0.898560     4956.315333\n",
      "   47     0.898560     4956.055195\n",
      "   48     0.898560     4955.800667\n",
      "   49     0.898560     4955.551223\n",
      "   50     0.898560     4955.306390\n",
      "   51     0.898560     4955.065736\n",
      "   52     0.898560     4954.828867\n",
      "   53     0.898560     4954.595425\n",
      "   54     0.898560     4954.365083\n",
      "   55     0.898560     4954.137543\n",
      "   56     0.898560     4953.912529\n",
      "   57     0.898580     4953.689791\n",
      "   58     0.898580     4953.469098\n",
      "   59     0.898580     4953.250238\n",
      "   60     0.898580     4953.033016\n",
      "   61     0.898580     4952.817251\n",
      "   62     0.898580     4952.602779\n",
      "   63     0.898600     4952.389444\n",
      "   64     0.898620     4952.177107\n",
      "   65     0.898640     4951.965635\n",
      "   66     0.898640     4951.754907\n",
      "   67     0.898640     4951.544810\n",
      "   68     0.898640     4951.335240\n",
      "   69     0.898640     4951.126101\n",
      "   70     0.898640     4950.917301\n",
      "   71     0.898640     4950.708756\n",
      "   72     0.898660     4950.500389\n",
      "   73     0.898660     4950.292127\n",
      "   74     0.898680     4950.083902\n",
      "   75     0.898680     4949.875651\n",
      "   76     0.898680     4949.667314\n",
      "   77     0.898700     4949.458837\n",
      "   78     0.898720     4949.250168\n",
      "   79     0.898700     4949.041259\n",
      "   80     0.898700     4948.832065\n",
      "   81     0.898700     4948.622543\n",
      "   82     0.898700     4948.412655\n",
      "   83     0.898700     4948.202363\n",
      "   84     0.898700     4947.991632\n",
      "   85     0.898700     4947.780431\n",
      "   86     0.898720     4947.568728\n",
      "   87     0.898720     4947.356496\n",
      "   88     0.898700     4947.143708\n",
      "   89     0.898680     4946.930338\n",
      "   90     0.898680     4946.716363\n",
      "   91     0.898680     4946.501761\n",
      "   92     0.898680     4946.286511\n",
      "   93     0.898660     4946.070594\n",
      "   94     0.898660     4945.853992\n",
      "   95     0.898660     4945.636688\n",
      "   96     0.898660     4945.418664\n",
      "   97     0.898660     4945.199908\n",
      "   98     0.898640     4944.980404\n",
      "   99     0.898620     4944.760139\n",
      "  100     0.898640     4944.539101\n",
      "\n",
      "Train Accuracy:  0.89862 \tTest Accuracy:  0.8989 \n",
      "\n"
     ]
    },
    {
     "data": {
      "image/png": "[encoded data removed]",
      "text/plain": [
       "<Figure size 432x288 with 1 Axes>"
      ]
     },
     "metadata": {
      "needs_background": "light"
     },
     "output_type": "display_data"
    },
    {
     "data": {
      "image/png": "[encoded data removed]",
      "text/plain": [
       "<Figure size 432x288 with 1 Axes>"
      ]
     },
     "metadata": {
      "needs_background": "light"
     },
     "output_type": "display_data"
    },
    {
     "name": "stdout",
     "output_type": "stream",
     "text": [
      "\n",
      "\n",
      "\n",
      "############################################\n",
      "Training Perceptron 7\n",
      "    1     0.854180     6135.240741\n",
      "    2     0.874820     5588.758074\n",
      "    3     0.882340     5391.875556\n",
      "    4     0.886740     5290.828327\n",
      "    5     0.889500     5229.679097\n",
      "    6     0.891300     5188.868800\n",
      "    7     0.892620     5159.786976\n",
      "    8     0.893400     5138.061158\n",
      "    9     0.894320     5121.240755\n",
      "   10     0.894860     5107.848660\n",
      "   11     0.895180     5096.943159\n",
      "   12     0.895460     5087.896424\n",
      "   13     0.895760     5080.274317\n",
      "   14     0.895900     5073.767357\n",
      "   15     0.896080     5068.149155\n",
      "   16     0.896320     5063.250400\n",
      "   17     0.896460     5058.942009\n",
      "   18     0.896660     5055.123892\n",
      "   19     0.896780     5051.717279\n",
      "   20     0.896900     5048.659347\n",
      "   21     0.897100     5045.899394\n",
      "   22     0.897320     5043.396058\n",
      "   23     0.897380     5041.115268\n",
      "   24     0.897400     5039.028710\n",
      "   25     0.897420     5037.112662\n",
      "   26     0.897440     5035.347102\n",
      "   27     0.897480     5033.715016\n",
      "   28     0.897580     5032.201855\n",
      "   29     0.897640     5030.795104\n",
      "   30     0.897700     5029.483938\n",
      "   31     0.897780     5028.258950\n",
      "   32     0.897840     5027.111923\n",
      "   33     0.897860     5026.035651\n",
      "   34     0.897960     5025.023785\n",
      "   35     0.898040     5024.070712\n",
      "   36     0.898060     5023.171452\n",
      "   37     0.898160     5022.321569\n",
      "   38     0.898200     5021.517098\n",
      "   39     0.898200     5020.754490\n",
      "   40     0.898220     5020.030551\n",
      "   41     0.898280     5019.342406\n",
      "   42     0.898280     5018.687454\n",
      "   43     0.898300     5018.063341\n",
      "   44     0.898300     5017.467930\n",
      "   45     0.898340     5016.899273\n",
      "   46     0.898360     5016.355596\n",
      "   47     0.898400     5015.835279\n",
      "   48     0.898420     5015.336834\n",
      "   49     0.898460     5014.858901\n",
      "   50     0.898480     5014.400226\n",
      "   51     0.898500     5013.959657\n",
      "   52     0.898500     5013.536131\n",
      "   53     0.898520     5013.128664\n",
      "   54     0.898520     5012.736350\n",
      "   55     0.898560     5012.358346\n",
      "   56     0.898580     5011.993871\n",
      "   57     0.898580     5011.642199\n",
      "   58     0.898620     5011.302657\n",
      "   59     0.898660     5010.974614\n",
      "   60     0.898700     5010.657486\n",
      "   61     0.898720     5010.350724\n",
      "   62     0.898740     5010.053816\n",
      "   63     0.898740     5009.766284\n",
      "   64     0.898740     5009.487680\n",
      "   65     0.898740     5009.217582\n",
      "   66     0.898740     5008.955595\n",
      "   67     0.898780     5008.701350\n",
      "   68     0.898780     5008.454495\n",
      "   69     0.898820     5008.214704\n",
      "   70     0.898840     5007.981666\n",
      "   71     0.898880     5007.755090\n",
      "   72     0.898880     5007.534699\n",
      "   73     0.898880     5007.320235\n",
      "   74     0.898900     5007.111450\n",
      "   75     0.898920     5006.908111\n",
      "   76     0.898940     5006.709999\n",
      "   77     0.898940     5006.516905\n",
      "   78     0.898960     5006.328631\n",
      "   79     0.898940     5006.144988\n",
      "   80     0.898980     5005.965799\n",
      "   81     0.898980     5005.790893\n",
      "   82     0.899000     5005.620111\n",
      "   83     0.899000     5005.453298\n",
      "   84     0.899000     5005.290309\n",
      "   85     0.899020     5005.131004\n",
      "   86     0.899020     5004.975252\n",
      "   87     0.899020     5004.822927\n",
      "   88     0.899020     5004.673907\n",
      "   89     0.899040     5004.528077\n",
      "   90     0.899040     5004.385329\n",
      "   91     0.899040     5004.245557\n",
      "   92     0.899040     5004.108660\n",
      "   93     0.899060     5003.974543\n",
      "   94     0.899060     5003.843115\n",
      "   95     0.899060     5003.714286\n",
      "   96     0.899060     5003.587973\n",
      "   97     0.899060     5003.464095\n",
      "   98     0.899060     5003.342575\n",
      "   99     0.899080     5003.223338\n",
      "  100     0.899080     5003.106313\n",
      "\n",
      "Train Accuracy:  0.89908 \tTest Accuracy:  0.899 \n",
      "\n"
     ]
    },
    {
     "data": {
      "image/png": "[encoded data removed]",
      "text/plain": [
       "<Figure size 432x288 with 1 Axes>"
      ]
     },
     "metadata": {
      "needs_background": "light"
     },
     "output_type": "display_data"
    },
    {
     "data": {
      "image/png": "[encoded data removed]",
      "text/plain": [
       "<Figure size 432x288 with 1 Axes>"
      ]
     },
     "metadata": {
      "needs_background": "light"
     },
     "output_type": "display_data"
    },
    {
     "name": "stdout",
     "output_type": "stream",
     "text": [
      "\n",
      "\n",
      "\n",
      "############################################\n",
      "Training Perceptron 8\n",
      "    1     0.629860    13501.793986\n",
      "    2     0.870840     5791.225357\n",
      "    3     0.885840     5369.291493\n",
      "    4     0.890800     5234.454726\n",
      "    5     0.893020     5168.933940\n",
      "    6     0.894560     5130.569721\n",
      "    7     0.895480     5105.526175\n",
      "    8     0.896100     5087.961877\n",
      "    9     0.896660     5074.999216\n",
      "   10     0.896940     5065.061815\n",
      "   11     0.897200     5057.215934\n",
      "   12     0.897520     5050.874229\n",
      "   13     0.897680     5045.649214\n",
      "   14     0.897820     5041.275150\n",
      "   15     0.898020     5037.563851\n",
      "   16     0.898200     5034.378399\n",
      "   17     0.898320     5031.616858\n",
      "   18     0.898460     5029.201808\n",
      "   19     0.898540     5027.073421\n",
      "   20     0.898540     5025.184757\n",
      "   21     0.898580     5023.498484\n",
      "   22     0.898660     5021.984550\n",
      "   23     0.898820     5020.618504\n",
      "   24     0.898840     5019.380254\n",
      "   25     0.898860     5018.253145\n",
      "   26     0.898880     5017.223254\n",
      "   27     0.898940     5016.278864\n",
      "   28     0.898980     5015.410037\n",
      "   29     0.899040     5014.608301\n",
      "   30     0.899060     5013.866381\n",
      "   31     0.899100     5013.178007\n",
      "   32     0.899100     5012.537740\n",
      "   33     0.899140     5011.940842\n",
      "   34     0.899180     5011.383169\n",
      "   35     0.899260     5010.861080\n",
      "   36     0.899280     5010.371364\n",
      "   37     0.899280     5009.911180\n",
      "   38     0.899280     5009.478004\n",
      "   39     0.899280     5009.069587\n",
      "   40     0.899300     5008.683918\n",
      "   41     0.899340     5008.319197\n",
      "   42     0.899340     5007.973804\n",
      "   43     0.899360     5007.646280\n",
      "   44     0.899380     5007.335307\n",
      "   45     0.899420     5007.039690\n",
      "   46     0.899440     5006.758347\n",
      "   47     0.899460     5006.490290\n",
      "   48     0.899460     5006.234623\n",
      "   49     0.899500     5005.990524\n",
      "   50     0.899500     5005.757244\n",
      "   51     0.899500     5005.534092\n",
      "   52     0.899500     5005.320438\n",
      "   53     0.899520     5005.115700\n",
      "   54     0.899520     5004.919342\n",
      "   55     0.899520     5004.730871\n",
      "   56     0.899540     5004.549829\n",
      "   57     0.899540     5004.375794\n",
      "   58     0.899560     5004.208373\n",
      "   59     0.899560     5004.047204\n",
      "   60     0.899560     5003.891948\n",
      "   61     0.899560     5003.742291\n",
      "   62     0.899560     5003.597941\n",
      "   63     0.899560     5003.458623\n",
      "   64     0.899580     5003.324084\n",
      "   65     0.899580     5003.194086\n",
      "   66     0.899580     5003.068404\n",
      "   67     0.899580     5002.946830\n",
      "   68     0.899580     5002.829169\n",
      "   69     0.899600     5002.715237\n",
      "   70     0.899600     5002.604861\n",
      "   71     0.899600     5002.497879\n",
      "   72     0.899600     5002.394139\n",
      "   73     0.899600     5002.293495\n",
      "   74     0.899620     5002.195814\n",
      "   75     0.899620     5002.100967\n",
      "   76     0.899620     5002.008832\n",
      "   77     0.899620     5001.919297\n",
      "   78     0.899620     5001.832253\n",
      "   79     0.899620     5001.747599\n",
      "   80     0.899620     5001.665236\n",
      "   81     0.899620     5001.585075\n",
      "   82     0.899620     5001.507028\n",
      "   83     0.899640     5001.431012\n",
      "   84     0.899640     5001.356949\n",
      "   85     0.899640     5001.284766\n",
      "   86     0.899640     5001.214390\n",
      "   87     0.899640     5001.145756\n",
      "   88     0.899640     5001.078798\n",
      "   89     0.899640     5001.013457\n",
      "   90     0.899640     5000.949674\n",
      "   91     0.899640     5000.887393\n",
      "   92     0.899640     5000.826562\n",
      "   93     0.899640     5000.767130\n",
      "   94     0.899640     5000.709049\n",
      "   95     0.899640     5000.652274\n",
      "   96     0.899640     5000.596760\n",
      "   97     0.899660     5000.542465\n",
      "   98     0.899680     5000.489349\n",
      "   99     0.899680     5000.437373\n",
      "  100     0.899680     5000.386501\n",
      "\n",
      "Train Accuracy:  0.89968 \tTest Accuracy:  0.8993 \n",
      "\n"
     ]
    },
    {
     "data": {
      "image/png": "[encoded data removed]",
      "text/plain": [
       "<Figure size 432x288 with 1 Axes>"
      ]
     },
     "metadata": {
      "needs_background": "light"
     },
     "output_type": "display_data"
    },
    {
     "data": {
      "image/png": "[encoded data removed]",
      "text/plain": [
       "<Figure size 432x288 with 1 Axes>"
      ]
     },
     "metadata": {
      "needs_background": "light"
     },
     "output_type": "display_data"
    },
    {
     "name": "stdout",
     "output_type": "stream",
     "text": [
      "\n",
      "\n",
      "\n",
      "############################################\n",
      "Training Perceptron 9\n",
      "    1     0.885180     5176.137633\n",
      "    2     0.891120     4992.001461\n",
      "    3     0.893540     4936.479574\n",
      "    4     0.894640     4910.240059\n",
      "    5     0.895160     4894.625045\n",
      "    6     0.895520     4883.803981\n",
      "    7     0.895940     4875.431967\n",
      "    8     0.896140     4868.406723\n",
      "    9     0.896260     4862.151569\n",
      "   10     0.896400     4856.340420\n",
      "   11     0.896560     4850.777872\n",
      "   12     0.896660     4845.341665\n",
      "   13     0.896620     4839.952918\n",
      "   14     0.896660     4834.559782\n",
      "   15     0.896600     4829.127998\n",
      "   16     0.896560     4823.635194\n",
      "   17     0.896620     4818.067313\n",
      "   18     0.896640     4812.416282\n",
      "   19     0.896600     4806.678442\n",
      "   20     0.896540     4800.853446\n",
      "   21     0.896420     4794.943461\n",
      "   22     0.896300     4788.952573\n",
      "   23     0.896260     4782.886326\n",
      "   24     0.896260     4776.751361\n",
      "   25     0.896200     4770.555124\n",
      "   26     0.896140     4764.305632\n",
      "   27     0.896140     4758.011286\n",
      "   28     0.896100     4751.680709\n",
      "   29     0.896180     4745.322629\n",
      "   30     0.896120     4738.945770\n",
      "   31     0.896080     4732.558771\n",
      "   32     0.896020     4726.170116\n",
      "   33     0.896100     4719.788077\n",
      "   34     0.895920     4713.420668\n",
      "   35     0.895880     4707.075602\n",
      "   36     0.895760     4700.760259\n",
      "   37     0.895680     4694.481658\n",
      "   38     0.895720     4688.246431\n",
      "   39     0.895700     4682.060805\n",
      "   40     0.895740     4675.930590\n",
      "   41     0.895700     4669.861163\n",
      "   42     0.895680     4663.857469\n",
      "   43     0.895680     4657.924012\n",
      "   44     0.895520     4652.064862\n",
      "   45     0.895420     4646.283655\n",
      "   46     0.895500     4640.583607\n",
      "   47     0.895520     4634.967521\n",
      "   48     0.895520     4629.437802\n",
      "   49     0.895600     4623.996471\n",
      "   50     0.895720     4618.645188\n",
      "   51     0.895780     4613.385264\n",
      "   52     0.895740     4608.217685\n",
      "   53     0.895740     4603.143133\n",
      "   54     0.895580     4598.162003\n",
      "   55     0.895680     4593.274429\n",
      "   56     0.895660     4588.480302\n",
      "   57     0.895680     4583.779290\n",
      "   58     0.895660     4579.170863\n",
      "   59     0.895540     4574.654305\n",
      "   60     0.895580     4570.228738\n",
      "   61     0.895460     4565.893140\n",
      "   62     0.895460     4561.646357\n",
      "   63     0.895580     4557.487125\n",
      "   64     0.895620     4553.414080\n",
      "   65     0.895780     4549.425776\n",
      "   66     0.895700     4545.520694\n",
      "   67     0.895640     4541.697257\n",
      "   68     0.895680     4537.953839\n",
      "   69     0.895900     4534.288776\n",
      "   70     0.895940     4530.700375\n",
      "   71     0.895880     4527.186922\n",
      "   72     0.896020     4523.746690\n",
      "   73     0.895960     4520.377946\n",
      "   74     0.895960     4517.078955\n",
      "   75     0.895920     4513.847989\n",
      "   76     0.896040     4510.683327\n",
      "   77     0.896020     4507.583264\n",
      "   78     0.896040     4504.546111\n",
      "   79     0.896020     4501.570202\n",
      "   80     0.896040     4498.653893\n",
      "   81     0.896000     4495.795566\n",
      "   82     0.896000     4492.993632\n",
      "   83     0.895960     4490.246529\n",
      "   84     0.895960     4487.552730\n",
      "   85     0.895980     4484.910736\n",
      "   86     0.896060     4482.319085\n",
      "   87     0.896040     4479.776346\n",
      "   88     0.896060     4477.281123\n",
      "   89     0.896180     4474.832055\n",
      "   90     0.896280     4472.427814\n",
      "   91     0.896340     4470.067109\n",
      "   92     0.896320     4467.748682\n",
      "   93     0.896260     4465.471310\n",
      "   94     0.896240     4463.233804\n",
      "   95     0.896260     4461.035007\n",
      "   96     0.896340     4458.873798\n",
      "   97     0.896380     4456.749086\n",
      "   98     0.896380     4454.659815\n",
      "   99     0.896440     4452.604959\n",
      "  100     0.896380     4450.583521\n",
      "\n",
      "Train Accuracy:  0.89654 \tTest Accuracy:  0.8942 \n",
      "\n"
     ]
    },
    {
     "data": {
      "image/png": "[encoded data removed]",
      "text/plain": [
       "<Figure size 432x288 with 1 Axes>"
      ]
     },
     "metadata": {
      "needs_background": "light"
     },
     "output_type": "display_data"
    },
    {
     "data": {
      "image/png": "[encoded data removed]",
      "text/plain": [
       "<Figure size 432x288 with 1 Axes>"
      ]
     },
     "metadata": {
      "needs_background": "light"
     },
     "output_type": "display_data"
    },
    {
     "name": "stdout",
     "output_type": "stream",
     "text": [
      "\n",
      "\n",
      "\n"
     ]
    }
   ],
   "source": [
    "\n",
    "perceptrons = [Perceptron(0.00001) for i in range(10)]\n",
    "index = 0\n",
    "\n",
    "for p in perceptrons:\n",
    "    print(\"############################################\")\n",
    "    print(\"Training Perceptron\", index)\n",
    "\n",
    "    p.train(linear_dataset_array_train[index], 100, \"verbose\")\n",
    "\n",
    "    accuracy_train = p.evaluate(linear_dataset_array_train[index])\n",
    "    accuracy_test = p.evaluate(linear_dataset_array_test[index])\n",
    "\n",
    "    print(\"\\nTrain Accuracy: \", accuracy_train, \"\\tTest Accuracy: \", accuracy_test, \"\\n\")\n",
    "\n",
    "    p.plotResults()\n",
    "\n",
    "    print(\"\\n\\n\")\n",
    "    index += 1\n"
   ]
  },
  {
   "cell_type": "code",
   "execution_count": 20,
   "metadata": {},
   "outputs": [],
   "source": [
    "\n",
    "linear_dataset_test_labels = []\n",
    "\n",
    "for img,category in grayscale_dataset_test:\n",
    "    linear_img = img.reshape(img.shape[0]*img.shape[1],1) / 255\n",
    "    label = classes.index(category)\n",
    "    linear_dataset_test_labels.append((linear_img,label))\n"
   ]
  },
  {
   "cell_type": "code",
   "execution_count": 26,
   "metadata": {},
   "outputs": [
    {
     "name": "stdout",
     "output_type": "stream",
     "text": [
      "0.1173\n"
     ]
    }
   ],
   "source": [
    "hits = 0\n",
    "most_active_perceptron = 0\n",
    "max_output = 0\n",
    "\n",
    "for image,label in linear_dataset_test_labels:\n",
    "    image = np.append(image, 1)\n",
    "    index = 0\n",
    "    \n",
    "    for p in perceptrons:\n",
    "        result = p.predict(image)\n",
    "        if result > max_output:\n",
    "            max_output = result\n",
    "            most_active_perceptron = index\n",
    "        index += 1\n",
    "        \n",
    "    if label == most_active_perceptron:\n",
    "        hits += 1\n",
    "        \n",
    "    max_output = 0\n",
    "accuracy = hits / len(linear_dataset_test_labels)\n",
    "\n",
    "print(accuracy)"
   ]
  },
  {
   "cell_type": "code",
   "execution_count": null,
   "metadata": {},
   "outputs": [],
   "source": []
  }
 ],
 "metadata": {
  "colab": {
   "collapsed_sections": [],
   "name": "Perceptron.ipynb",
   "provenance": [],
   "version": "0.3.2"
  },
  "kernelspec": {
   "display_name": "Python 3",
   "language": "python",
   "name": "python3"
  },
  "language_info": {
   "codemirror_mode": {
    "name": "ipython",
    "version": 3
   },
   "file_extension": ".py",
   "mimetype": "text/x-python",
   "name": "python",
   "nbconvert_exporter": "python",
   "pygments_lexer": "ipython3",
   "version": "3.7.2"
  }
 },
 "nbformat": 4,
 "nbformat_minor": 2
}
